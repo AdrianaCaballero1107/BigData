{
 "cells": [
  {
   "cell_type": "code",
   "execution_count": 13,
   "id": "8ed62875-17ff-4df1-a885-669dcdc641a1",
   "metadata": {},
   "outputs": [],
   "source": [
    "import requests\n",
    "import json #Importa las librerías necesarias:\n",
    "from IPython.display import JSON\n",
    "from keys import *"
   ]
  },
  {
   "cell_type": "code",
   "execution_count": 21,
   "id": "1b1cb68e-ef8b-4ed2-b0b8-44838dedea35",
   "metadata": {},
   "outputs": [],
   "source": [
    "\n",
    "url = \"https://aerodatabox.p.rapidapi.com/flights/airports/icao/RKPK/2025-09-01T08:00/2025-09-01T20:00\"\n",
    "\n",
    "#se definen los parámetros de la consulta\n",
    "querystring = {\n",
    "    \"offsetMinutes\": \"-120\",\n",
    "    \"durationMinutes\": \"720\",\n",
    "    \"withLeg\": \"true\",\n",
    "    \"direction\": \"Both\",\n",
    "    \"withCancelled\": \"true\",\n",
    "    \"withCodeshared\": \"true\",\n",
    "    \"withCargo\": \"true\",\n",
    "    \"withPrivate\": \"true\",\n",
    "    \"withLocation\": \"false\"\n",
    "}\n",
    "#se definen los encabezados HTTP\n",
    "headers = {\n",
    "    \"x-rapidapi-host\": \"aerodatabox.p.rapidapi.com\",\n",
    "    \"x-rapidapi-key\": \"cbae0c8b00msha53f5d91d17f5f2p1c7e20jsn6f6909a55841\"  \n",
    "}\n",
    "#hace petición GET a la API\n",
    "response = requests.get(url, headers=headers, params=querystring)\n",
    "\n",
    "\n"
   ]
  },
  {
   "cell_type": "code",
   "execution_count": 18,
   "id": "6b535a89-d74c-47ff-9778-05a2040955ad",
   "metadata": {},
   "outputs": [
    {
     "name": "stdout",
     "output_type": "stream",
     "text": [
      "Data appended to data.json file.\n"
     ]
    }
   ],
   "source": [
    "if response.status_code == 200: #validación que la respuesta de la API fue exitosa\n",
    "    new_data = response.json() #convierte la respuesta en diccionario de Python y lo guarda\n",
    "\n",
    "    try:\n",
    "        with open(\"data.json\", \"r\") as json_file:\n",
    "            existing_data = json.load(json_file)\n",
    "    except (FileNotFoundError, json.decoder.JSONDecodeError):\n",
    "        existing_data = [] #si el archivo no existe o está vacío/dañado, entonces existing_data se inicializa como una lista vacía\n",
    "\n",
    "    existing_data.append(new_data)#agrega la nueva respuesta\n",
    "\n",
    "    with open(\"data.json\", \"w\") as json_file: #se abre data.json en modo escritura y guarda todo el contenido de existing_data\n",
    "        json.dump(existing_data, json_file, indent=4)\n",
    "        print(\"Data appended to data.json file.\") #imprime un mensaje confirmando que los datos fueron agregados\n",
    "else:\n",
    "    print(\"Failed to retrieve data from the API. Status code:\", response.status_code) #si la API no responde con éxito, se muestra un mensaje de error "
   ]
  },
  {
   "cell_type": "code",
   "execution_count": 22,
   "id": "1ccc4968-d041-4a54-99aa-3f62ebbfb56b",
   "metadata": {},
   "outputs": [],
   "source": [
    "flight_arrivals = response.json() #se obtiene la respuesta de la API en formato JSON\n",
    "\n",
    "# Recorremos cada vuelo en la lista de 'arrivals'\n",
    "for flight in flight_arrivals.get('arrivals', []):\n",
    "    scheduled_time = flight.get('arrival', {}).get('scheduledTime')\n",
    "    flight_number = flight.get('number')\n",
    "    terminal = flight.get('arrival', {}).get('terminal')\n",
    "    from_airport = flight.get('departure', {}).get('airport', {}).get('name')\n",
    "    aircraft = flight.get('aircraft', {}).get('model')\n",
    "    airline = flight.get('airline', {}).get('name')\n",
    "\n",
    "  \n"
   ]
  },
  {
   "cell_type": "code",
   "execution_count": 20,
   "id": "9b03270e-efc5-48ef-ae33-82fec77bf0d2",
   "metadata": {},
   "outputs": [
    {
     "name": "stdout",
     "output_type": "stream",
     "text": [
      "                              scheduled_arrival_time flight_number  \\\n",
      "0  {'utc': '2025-08-31 23:05Z', 'local': '2025-09...       KE 1803   \n",
      "1  {'utc': '2025-08-31 23:10Z', 'local': '2025-09...        BX 602   \n",
      "2  {'utc': '2025-08-31 23:10Z', 'local': '2025-09...       7C 2662   \n",
      "3  {'utc': '2025-08-31 23:30Z', 'local': '2025-09...       7C 2552   \n",
      "4  {'utc': '2025-08-31 23:40Z', 'local': '2025-09...        VJ 990   \n",
      "\n",
      "           from_airport     airline         aircraft  \n",
      "0              Seoul-si  Korean Air  Airbus A220-300  \n",
      "1  Denpasar-Bali Island   Air Busan  Airbus A321 NEO  \n",
      "2             Singapore    Jeju Air   Boeing 737-800  \n",
      "3               Bangkok    Jeju Air   Boeing 737-800  \n",
      "4             Nha Trang  VietJetAir      Airbus A321  \n"
     ]
    }
   ],
   "source": [
    "import requests\n",
    "import pandas as pd #importa las librerías necesarias:\n",
    "\n",
    "#convierte la respuesta de la API (response) en un diccionario Python\n",
    "flight_arrivals = response.json()\n",
    "\n",
    "#define una función que extrae la información importante de un solo vuelo\n",
    "def flight_extraction(flight):\n",
    "    record = {\n",
    "        'scheduled_arrival_time': flight.get('arrival', {}).get('scheduledTime'),\n",
    "        'flight_number': flight.get('number'),\n",
    "        'from_airport': flight.get('departure', {}).get('airport', {}).get('name'),\n",
    "        'airline': flight.get('airline', {}).get('name'),\n",
    "        'aircraft': flight.get('aircraft', {}).get('model')\n",
    "    }\n",
    "    return pd.DataFrame([record])  # cada vuelo como DataFrame de 1 fila\n",
    "\n",
    "# Convierte la lista de arrivals en DataFrame\n",
    "flight_arrivals_df = pd.concat(\n",
    "    [flight_extraction(flight) for flight in flight_arrivals.get('arrivals', [])],\n",
    "    ignore_index=True\n",
    ")\n",
    "\n",
    "# Mostrar las primeras filas\n",
    "print(flight_arrivals_df.head())\n"
   ]
  },
  {
   "cell_type": "code",
   "execution_count": null,
   "id": "1f2fc967-1da1-4edb-9b2b-59082ae6f0d4",
   "metadata": {},
   "outputs": [],
   "source": []
  }
 ],
 "metadata": {
  "kernelspec": {
   "display_name": "Python 3 (ipykernel)",
   "language": "python",
   "name": "python3"
  },
  "language_info": {
   "codemirror_mode": {
    "name": "ipython",
    "version": 3
   },
   "file_extension": ".py",
   "mimetype": "text/x-python",
   "name": "python",
   "nbconvert_exporter": "python",
   "pygments_lexer": "ipython3",
   "version": "3.13.7"
  }
 },
 "nbformat": 4,
 "nbformat_minor": 5
}
