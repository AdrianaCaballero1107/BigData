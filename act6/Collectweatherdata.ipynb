{
 "cells": [
  {
   "cell_type": "code",
   "execution_count": 5,
   "id": "103d17b6-5b89-4ac1-b3d1-922d4e7ba8ac",
   "metadata": {},
   "outputs": [
    {
     "name": "stdout",
     "output_type": "stream",
     "text": [
      "Status code: 200\n",
      "                 time  temperature  humidity weather_status  wind_speed  \\\n",
      "0 2025-10-02 00:00:00        18.44        74         Clouds        2.01   \n",
      "1 2025-10-02 03:00:00        22.51        63         Clouds        1.94   \n",
      "2 2025-10-02 06:00:00        24.91        58         Clouds        3.28   \n",
      "3 2025-10-02 09:00:00        23.15        63         Clouds        2.98   \n",
      "4 2025-10-02 12:00:00        21.35        66           Rain        2.75   \n",
      "\n",
      "   rain_volume_3h  snow_volume_3h  \n",
      "0             NaN             NaN  \n",
      "1             NaN             NaN  \n",
      "2             NaN             NaN  \n",
      "3             NaN             NaN  \n",
      "4            0.25             NaN  \n"
     ]
    }
   ],
   "source": [
    "import requests  # hace llamdas HTTP a la API\n",
    "import pandas as pd # organiza los datos en tablas\n",
    "import numpy as np # se utiliza cuando faltan valores\n",
    "from keys import OWM_key# Importa tu API key\n",
    "\n",
    "# se define ciudad y país\n",
    "city = \"Busan\"\n",
    "country = \"KR\"\n",
    "\n",
    "# construir URL con la key\n",
    "url = f\"http://api.openweathermap.org/data/2.5/forecast?q={city},{country}&appid={OWM_key}&units=metric&lang=en\"\n",
    "\n",
    "# hacer peticion a la API y se guarda la respuesta\n",
    "response = requests.get(url)\n",
    "\n",
    "# si la peticion fue exitosa\n",
    "print(\"Status code:\", response.status_code)\n",
    "\n",
    "# Procesar datos si la respuesta es correcta\n",
    "if response.status_code == 200:\n",
    "    data = response.json()\n",
    "\n",
    "    # Extraer forecast\n",
    "    forecast_list = data.get('list', [])\n",
    "\n",
    "    # Listas para DataFrame\n",
    "    times, temperatures, humidities = [], [], []\n",
    "    weather_statuses, wind_speeds, rain_volumes, snow_volumes = [], [], [], []\n",
    "\n",
    "    for entry in forecast_list:\n",
    "        times.append(entry.get('dt_txt', np.nan)) # dt_txt → fecha y hora.\n",
    "        temperatures.append(entry.get('main', {}).get('temp', np.nan)) # main.temp → temperatura.\n",
    "        humidities.append(entry.get('main', {}).get('humidity', np.nan)) #main.humidity → humedad.\n",
    "        weather_statuses.append(entry.get('weather', [{}])[0].get('main', np.nan)) #weather[0].main → estado del clima\n",
    "        wind_speeds.append(entry.get('wind', {}).get('speed', np.nan)) #wind.speed → velocidad del viento.\n",
    "        rain_volumes.append(entry.get('rain', {}).get('3h', np.nan)) #rain.3h → volumen de lluvia acumulado en 3 horas\n",
    "        snow_volumes.append(entry.get('snow', {}).get('3h', np.nan)) #snow.3h → volumen de nieve acumulado en 3 horas.\n",
    "        #Si algo no existe, guarda np.nan en lugar de error\n",
    "\n",
    "    # Crear DataFrame\n",
    "    df = pd.DataFrame({\n",
    "        'time': times,\n",
    "        'temperature': temperatures,\n",
    "        'humidity': humidities,\n",
    "        'weather_status': weather_statuses,\n",
    "        'wind_speed': wind_speeds,\n",
    "        'rain_volume_3h': rain_volumes,\n",
    "        'snow_volume_3h': snow_volumes\n",
    "    })\n",
    "\n",
    "    # convierte la columna time en formato fecha\n",
    "    df['time'] = pd.to_datetime(df['time'])\n",
    "\n",
    "    print(df.head()) #muestra las primeras 5 filas de la tabla\n",
    "else:\n",
    "    print(\"Error en la petición:\", response.status_code)\n"
   ]
  },
  {
   "cell_type": "code",
   "execution_count": null,
   "id": "6f2847f9-ebb4-4764-8b12-f86a9bf6963e",
   "metadata": {},
   "outputs": [],
   "source": []
  }
 ],
 "metadata": {
  "kernelspec": {
   "display_name": "Python 3 (ipykernel)",
   "language": "python",
   "name": "python3"
  },
  "language_info": {
   "codemirror_mode": {
    "name": "ipython",
    "version": 3
   },
   "file_extension": ".py",
   "mimetype": "text/x-python",
   "name": "python",
   "nbconvert_exporter": "python",
   "pygments_lexer": "ipython3",
   "version": "3.13.7"
  }
 },
 "nbformat": 4,
 "nbformat_minor": 5
}
